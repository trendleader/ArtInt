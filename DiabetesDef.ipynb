{
  "nbformat": 4,
  "nbformat_minor": 0,
  "metadata": {
    "colab": {
      "provenance": [],
      "authorship_tag": "ABX9TyP/DsQfk2Zoso62rP2i7TU+",
      "include_colab_link": true
    },
    "kernelspec": {
      "name": "python3",
      "display_name": "Python 3"
    },
    "language_info": {
      "name": "python"
    }
  },
  "cells": [
    {
      "cell_type": "markdown",
      "metadata": {
        "id": "view-in-github",
        "colab_type": "text"
      },
      "source": [
        "<a href=\"https://colab.research.google.com/github/trendleader/ArtInt/blob/main/DiabetesDef.ipynb\" target=\"_parent\"><img src=\"https://colab.research.google.com/assets/colab-badge.svg\" alt=\"Open In Colab\"/></a>"
      ]
    },
    {
      "cell_type": "code",
      "execution_count": null,
      "metadata": {
        "id": "KZ19TQe5KkQH"
      },
      "outputs": [],
      "source": [
        "import openai\n",
        "import pandas as pd"
      ]
    },
    {
      "cell_type": "code",
      "source": [
        "import os"
      ],
      "metadata": {
        "id": "ZJJ2EiPQpCMF"
      },
      "execution_count": null,
      "outputs": []
    },
    {
      "cell_type": "code",
      "source": [
        "messages = [\n",
        "    {\"role\": \"user\", \"content\": \"Can you provide a brief explanation of diabetes including its symptoms, cause and common treatments?\"}\n",
        "]\n",
        "response = openai.chat.completions.create(\n",
        "    model=\"gpt-3.5-turbo\",\n",
        "    messages=messages,\n",
        "    max_tokens=150,\n",
        "    temperature=0.5\n",
        ")"
      ],
      "metadata": {
        "id": "01Iqvpr7pvWr"
      },
      "execution_count": null,
      "outputs": []
    },
    {
      "cell_type": "code",
      "metadata": {
        "id": "a1345c1e"
      },
      "source": [
        "from google.colab import userdata\n",
        "import os\n",
        "\n",
        "os.environ['OPENAI_API_KEY'] = userdata.get('OPENAI_API_KEY')"
      ],
      "execution_count": null,
      "outputs": []
    },
    {
      "cell_type": "code",
      "source": [
        "print(\"Response from GPT-4 Turbo:\")\n",
        "print(response.choices[0].message.content)"
      ],
      "metadata": {
        "colab": {
          "base_uri": "https://localhost:8080/"
        },
        "id": "vEExLCj8q8yo",
        "outputId": "5be97660-c6cf-4f65-a8cf-45b1ebf9c39b"
      },
      "execution_count": null,
      "outputs": [
        {
          "output_type": "stream",
          "name": "stdout",
          "text": [
            "Response from GPT-4 Turbo:\n",
            "Diabetes is a chronic condition that affects how your body processes glucose, or blood sugar. There are two main types of diabetes: Type 1 and Type 2. \n",
            "\n",
            "Type 1 diabetes is an autoimmune disease where the immune system attacks and destroys the insulin-producing cells in the pancreas. This results in a lack of insulin, which is necessary for the body to regulate blood sugar levels.\n",
            "\n",
            "Type 2 diabetes occurs when the body becomes resistant to insulin or doesn't produce enough insulin to maintain normal blood sugar levels. This type of diabetes is often linked to lifestyle factors such as obesity, lack of physical activity, and poor diet.\n",
            "\n",
            "Common symptoms of diabetes include frequent urination, excessive thirst, unexplained weight loss, fatigue, blurred vision, and\n"
          ]
        }
      ]
    }
  ]
}