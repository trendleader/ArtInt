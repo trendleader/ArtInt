{
  "nbformat": 4,
  "nbformat_minor": 0,
  "metadata": {
    "colab": {
      "provenance": [],
      "authorship_tag": "ABX9TyM2ec07DgH6FRp5ICMv3A/q",
      "include_colab_link": true
    },
    "kernelspec": {
      "name": "python3",
      "display_name": "Python 3"
    },
    "language_info": {
      "name": "python"
    }
  },
  "cells": [
    {
      "cell_type": "markdown",
      "metadata": {
        "id": "view-in-github",
        "colab_type": "text"
      },
      "source": [
        "<a href=\"https://colab.research.google.com/github/trendleader/ArtInt/blob/main/Hypertension.ipynb\" target=\"_parent\"><img src=\"https://colab.research.google.com/assets/colab-badge.svg\" alt=\"Open In Colab\"/></a>"
      ]
    },
    {
      "cell_type": "code",
      "execution_count": 2,
      "metadata": {
        "id": "KZ19TQe5KkQH"
      },
      "outputs": [],
      "source": [
        "import openai\n",
        "import pandas as pd"
      ]
    },
    {
      "cell_type": "code",
      "source": [
        "import os"
      ],
      "metadata": {
        "id": "ZJJ2EiPQpCMF"
      },
      "execution_count": 3,
      "outputs": []
    },
    {
      "cell_type": "code",
      "source": [
        "messages = [\n",
        "    {\"role\": \"user\", \"content\": \"Can you provide a brief explanation of hypertension including its symptoms, cause and common treatments?\"}\n",
        "]\n",
        "response = openai.chat.completions.create(\n",
        "    model=\"gpt-3.5-turbo\",\n",
        "    messages=messages,\n",
        "    max_tokens=150,\n",
        "    temperature=0.5\n",
        ")"
      ],
      "metadata": {
        "id": "01Iqvpr7pvWr"
      },
      "execution_count": 4,
      "outputs": []
    },
    {
      "cell_type": "code",
      "metadata": {
        "id": "a1345c1e"
      },
      "source": [
        "from google.colab import userdata\n",
        "import os\n",
        "\n",
        "os.environ['OPENAI_API_KEY'] = userdata.get('OPENAI_API_KEY')"
      ],
      "execution_count": 1,
      "outputs": []
    },
    {
      "cell_type": "code",
      "source": [
        "print(\"Response from GPT-4 Turbo:\")\n",
        "print(response.choices[0].message.content)"
      ],
      "metadata": {
        "colab": {
          "base_uri": "https://localhost:8080/"
        },
        "id": "vEExLCj8q8yo",
        "outputId": "2ebd2663-37a8-4279-886b-667dcc78c2bd"
      },
      "execution_count": 5,
      "outputs": [
        {
          "output_type": "stream",
          "name": "stdout",
          "text": [
            "Response from GPT-4 Turbo:\n",
            "Hypertension, also known as high blood pressure, is a condition in which the force of blood against the walls of the arteries is consistently too high. This can lead to serious health complications such as heart disease, stroke, and kidney failure.\n",
            "\n",
            "Symptoms of hypertension may include headaches, shortness of breath, dizziness, chest pain, and vision problems. However, many people with hypertension do not experience any symptoms, which is why it is often referred to as a \"silent killer.\"\n",
            "\n",
            "The exact cause of hypertension is often unknown, but risk factors include genetics, age, obesity, lack of physical activity, excessive salt intake, and chronic stress.\n",
            "\n",
            "Common treatments for hypertension include lifestyle changes such as maintaining a healthy diet, exercising regularly, reducing stress\n"
          ]
        }
      ]
    }
  ]
}